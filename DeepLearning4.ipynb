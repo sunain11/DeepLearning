{
  "nbformat": 4,
  "nbformat_minor": 0,
  "metadata": {
    "colab": {
      "name": "DeepLearning4.ipynb",
      "version": "0.3.2",
      "provenance": [],
      "include_colab_link": true
    },
    "kernelspec": {
      "name": "python3",
      "display_name": "Python 3"
    }
  },
  "cells": [
    {
      "cell_type": "markdown",
      "metadata": {
        "id": "view-in-github",
        "colab_type": "text"
      },
      "source": [
        "<a href=\"https://colab.research.google.com/github/sunain11/DeepLearning/blob/master/DeepLearning4.ipynb\" target=\"_parent\"><img src=\"https://colab.research.google.com/assets/colab-badge.svg\" alt=\"Open In Colab\"/></a>"
      ]
    },
    {
      "metadata": {
        "id": "53A1Yv4jaIkP",
        "colab_type": "code",
        "colab": {
          "base_uri": "https://localhost:8080/",
          "height": 513
        },
        "outputId": "5f1bf0f7-5a08-49b2-a6fe-95052d83e24d"
      },
      "cell_type": "code",
      "source": [
        "from tensorflow.keras.models import Sequential\n",
        "from tensorflow.keras.layers import Dense, Dropout, Activation, Flatten\n",
        "from tensorflow.keras.layers import Conv2D, MaxPooling2D\n",
        "# more info on callbakcs: https://keras.io/callbacks/ model saver is cool too.\n",
        "from tensorflow.keras.callbacks import TensorBoard\n",
        "import pickle\n",
        "import time\n",
        "\n",
        "NAME = \"Cats-vs-dogs-64x2-CNN\"\n",
        "\n",
        "pickle_in = open(\"/content/drive/My Drive/X.pickle\",\"rb\")\n",
        "X = pickle.load(pickle_in)\n",
        "\n",
        "pickle_in = open(\"/content/drive/My Drive/y.pickle\",\"rb\")\n",
        "y = pickle.load(pickle_in)\n",
        "\n",
        "X = X/255.0\n",
        "\n",
        "model = Sequential()\n",
        "\n",
        "model.add(Conv2D(64, (3, 3), input_shape=X.shape[1:]))\n",
        "model.add(Activation('relu'))\n",
        "model.add(MaxPooling2D(pool_size=(2, 2)))\n",
        "\n",
        "model.add(Conv2D(64, (3, 3)))\n",
        "model.add(Activation('relu'))\n",
        "model.add(MaxPooling2D(pool_size=(2, 2)))\n",
        "\n",
        "model.add(Flatten())  # this converts our 3D feature maps to 1D feature vectors\n",
        "model.add(Dense(64))\n",
        "model.add(Activation('relu'))\n",
        "\n",
        "model.add(Dense(1))\n",
        "model.add(Activation('sigmoid'))\n",
        "\n",
        "tensorboard = TensorBoard(log_dir=\"/content/drive/My Drive/logs/{}\".format(NAME))\n",
        "\n",
        "model.compile(loss='binary_crossentropy',\n",
        "              optimizer='adam',\n",
        "              metrics=['accuracy'],\n",
        "              )\n",
        "\n",
        "model.fit(X, y,\n",
        "          batch_size=32,\n",
        "          epochs=10,\n",
        "          validation_split=0.3,\n",
        "          callbacks=[tensorboard])"
      ],
      "execution_count": 1,
      "outputs": [
        {
          "output_type": "stream",
          "text": [
            "WARNING:tensorflow:From /usr/local/lib/python3.6/dist-packages/tensorflow/python/ops/resource_variable_ops.py:435: colocate_with (from tensorflow.python.framework.ops) is deprecated and will be removed in a future version.\n",
            "Instructions for updating:\n",
            "Colocations handled automatically by placer.\n",
            "Train on 17469 samples, validate on 7487 samples\n",
            "WARNING:tensorflow:From /usr/local/lib/python3.6/dist-packages/tensorflow/python/ops/math_ops.py:3066: to_int32 (from tensorflow.python.ops.math_ops) is deprecated and will be removed in a future version.\n",
            "Instructions for updating:\n",
            "Use tf.cast instead.\n",
            "Epoch 1/10\n",
            "17469/17469 [==============================] - 107s 6ms/sample - loss: 0.6541 - acc: 0.5996 - val_loss: 0.5922 - val_acc: 0.6892\n",
            "Epoch 2/10\n",
            "17469/17469 [==============================] - 107s 6ms/sample - loss: 0.5431 - acc: 0.7275 - val_loss: 0.5056 - val_acc: 0.7585\n",
            "Epoch 3/10\n",
            "17469/17469 [==============================] - 107s 6ms/sample - loss: 0.4840 - acc: 0.7677 - val_loss: 0.5045 - val_acc: 0.7520\n",
            "Epoch 4/10\n",
            "17469/17469 [==============================] - 107s 6ms/sample - loss: 0.4484 - acc: 0.7888 - val_loss: 0.4768 - val_acc: 0.7739\n",
            "Epoch 5/10\n",
            "17469/17469 [==============================] - 107s 6ms/sample - loss: 0.4117 - acc: 0.8106 - val_loss: 0.4629 - val_acc: 0.7843\n",
            "Epoch 6/10\n",
            "17469/17469 [==============================] - 107s 6ms/sample - loss: 0.3725 - acc: 0.8325 - val_loss: 0.4672 - val_acc: 0.7811\n",
            "Epoch 7/10\n",
            "17469/17469 [==============================] - 107s 6ms/sample - loss: 0.3303 - acc: 0.8571 - val_loss: 0.4715 - val_acc: 0.7894\n",
            "Epoch 8/10\n",
            "17469/17469 [==============================] - 108s 6ms/sample - loss: 0.2884 - acc: 0.8786 - val_loss: 0.4952 - val_acc: 0.7751\n",
            "Epoch 9/10\n",
            "17469/17469 [==============================] - 108s 6ms/sample - loss: 0.2396 - acc: 0.9012 - val_loss: 0.5950 - val_acc: 0.7712\n",
            "Epoch 10/10\n",
            "17469/17469 [==============================] - 108s 6ms/sample - loss: 0.1990 - acc: 0.9181 - val_loss: 0.5602 - val_acc: 0.7843\n"
          ],
          "name": "stdout"
        },
        {
          "output_type": "execute_result",
          "data": {
            "text/plain": [
              "<tensorflow.python.keras.callbacks.History at 0x7f5bd0944390>"
            ]
          },
          "metadata": {
            "tags": []
          },
          "execution_count": 1
        }
      ]
    }
  ]
}