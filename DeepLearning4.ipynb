{
  "nbformat": 4,
  "nbformat_minor": 0,
  "metadata": {
    "colab": {
      "name": "DeepLearning4.ipynb",
      "version": "0.3.2",
      "provenance": [],
      "include_colab_link": true
    },
    "kernelspec": {
      "name": "python3",
      "display_name": "Python 3"
    }
  },
  "cells": [
    {
      "cell_type": "markdown",
      "metadata": {
        "id": "view-in-github",
        "colab_type": "text"
      },
      "source": [
        "<a href=\"https://colab.research.google.com/github/sunain11/DeepLearning/blob/master/DeepLearning4.ipynb\" target=\"_parent\"><img src=\"https://colab.research.google.com/assets/colab-badge.svg\" alt=\"Open In Colab\"/></a>"
      ]
    },
    {
      "metadata": {
        "id": "53A1Yv4jaIkP",
        "colab_type": "code",
        "colab": {
          "base_uri": "https://localhost:8080/",
          "height": 411
        },
        "outputId": "2117e41d-30b6-460f-feee-39b5c576b69c"
      },
      "cell_type": "code",
      "source": [
        "from tensorflow.keras.models import Sequential\n",
        "from tensorflow.keras.layers import Dense, Dropout, Activation, Flatten\n",
        "from tensorflow.keras.layers import Conv2D, MaxPooling2D\n",
        "# more info on callbakcs: https://keras.io/callbacks/ model saver is cool too.\n",
        "from tensorflow.keras.callbacks import TensorBoard\n",
        "import pickle\n",
        "import time\n",
        "\n",
        "NAME = \"Cats-vs-dogs-64x2-CNN\"\n",
        "\n",
        "pickle_in = open(\"/content/drive/My Drive/X.pickle\",\"rb\")\n",
        "X = pickle.load(pickle_in)\n",
        "\n",
        "pickle_in = open(\"/content/drive/My Drive/y.pickle\",\"rb\")\n",
        "y = pickle.load(pickle_in)\n",
        "\n",
        "X = X/255.0\n",
        "\n",
        "model = Sequential()\n",
        "\n",
        "model.add(Conv2D(64, (3, 3), input_shape=X.shape[1:]))\n",
        "model.add(Activation('relu'))\n",
        "model.add(MaxPooling2D(pool_size=(2, 2)))\n",
        "\n",
        "model.add(Conv2D(64, (3, 3)))\n",
        "model.add(Activation('relu'))\n",
        "model.add(MaxPooling2D(pool_size=(2, 2)))\n",
        "\n",
        "model.add(Flatten())  # this converts our 3D feature maps to 1D feature vectors\n",
        "model.add(Dense(64))\n",
        "model.add(Activation('relu'))\n",
        "\n",
        "model.add(Dense(1))\n",
        "model.add(Activation('sigmoid'))\n",
        "\n",
        "tensorboard = TensorBoard(log_dir=\"/content/drive/My Drive/logs/{}\".format(NAME))\n",
        "\n",
        "model.compile(loss='binary_crossentropy',\n",
        "              optimizer='adam',\n",
        "              metrics=['accuracy'],\n",
        "              )\n",
        "\n",
        "model.fit(X, y,\n",
        "          batch_size=32,\n",
        "          epochs=10,\n",
        "          validation_split=0.3,\n",
        "          callbacks=[tensorboard])"
      ],
      "execution_count": 2,
      "outputs": [
        {
          "output_type": "stream",
          "text": [
            "Train on 17469 samples, validate on 7487 samples\n",
            "Epoch 1/10\n",
            "17469/17469 [==============================] - 112s 6ms/sample - loss: 0.6382 - acc: 0.6282 - val_loss: 0.5805 - val_acc: 0.6967\n",
            "Epoch 2/10\n",
            "17469/17469 [==============================] - 111s 6ms/sample - loss: 0.5429 - acc: 0.7285 - val_loss: 0.5239 - val_acc: 0.7444\n",
            "Epoch 3/10\n",
            "17469/17469 [==============================] - 111s 6ms/sample - loss: 0.4941 - acc: 0.7579 - val_loss: 0.4847 - val_acc: 0.7695\n",
            "Epoch 4/10\n",
            "17469/17469 [==============================] - 111s 6ms/sample - loss: 0.4606 - acc: 0.7809 - val_loss: 0.4787 - val_acc: 0.7685\n",
            "Epoch 5/10\n",
            "17469/17469 [==============================] - 111s 6ms/sample - loss: 0.4190 - acc: 0.8061 - val_loss: 0.4865 - val_acc: 0.7660\n",
            "Epoch 6/10\n",
            "17469/17469 [==============================] - 110s 6ms/sample - loss: 0.3914 - acc: 0.8186 - val_loss: 0.4651 - val_acc: 0.7820\n",
            "Epoch 7/10\n",
            "17469/17469 [==============================] - 110s 6ms/sample - loss: 0.3513 - acc: 0.8433 - val_loss: 0.4614 - val_acc: 0.7868\n",
            "Epoch 8/10\n",
            "17469/17469 [==============================] - 110s 6ms/sample - loss: 0.3184 - acc: 0.8632 - val_loss: 0.5173 - val_acc: 0.7743\n",
            "Epoch 9/10\n",
            "17469/17469 [==============================] - 110s 6ms/sample - loss: 0.2749 - acc: 0.8822 - val_loss: 0.4968 - val_acc: 0.7922\n",
            "Epoch 10/10\n",
            "17469/17469 [==============================] - 110s 6ms/sample - loss: 0.2450 - acc: 0.8962 - val_loss: 0.5088 - val_acc: 0.7875\n"
          ],
          "name": "stdout"
        },
        {
          "output_type": "execute_result",
          "data": {
            "text/plain": [
              "<tensorflow.python.keras.callbacks.History at 0x7f5bca95a710>"
            ]
          },
          "metadata": {
            "tags": []
          },
          "execution_count": 2
        }
      ]
    }
  ]
}