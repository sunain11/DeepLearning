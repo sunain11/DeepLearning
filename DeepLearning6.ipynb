{
  "nbformat": 4,
  "nbformat_minor": 0,
  "metadata": {
    "colab": {
      "name": "DeepLearning6.ipynb",
      "version": "0.3.2",
      "provenance": [],
      "include_colab_link": true
    },
    "kernelspec": {
      "name": "python3",
      "display_name": "Python 3"
    }
  },
  "cells": [
    {
      "cell_type": "markdown",
      "metadata": {
        "id": "view-in-github",
        "colab_type": "text"
      },
      "source": [
        "<a href=\"https://colab.research.google.com/github/sunain11/DeepLearning/blob/master/DeepLearning6.ipynb\" target=\"_parent\"><img src=\"https://colab.research.google.com/assets/colab-badge.svg\" alt=\"Open In Colab\"/></a>"
      ]
    },
    {
      "metadata": {
        "id": "SZ4j54-ofera",
        "colab_type": "code",
        "colab": {
          "base_uri": "https://localhost:8080/",
          "height": 326
        },
        "outputId": "c73a3611-e4ba-4bb8-8e17-48f7cb2f7fdd"
      },
      "cell_type": "code",
      "source": [
        "from tensorflow.keras.models import Sequential\n",
        "from tensorflow.keras.layers import Dense, Dropout, Activation, Flatten\n",
        "from tensorflow.keras.layers import Conv2D, MaxPooling2D\n",
        "# more info on callbakcs: https://keras.io/callbacks/ model saver is cool too.\n",
        "from tensorflow.keras.callbacks import TensorBoard\n",
        "import pickle\n",
        "import time\n",
        "import cv2\n",
        "import tensorflow as tf\n",
        "from google.colab import drive\n",
        "drive.mount('/content/drive')\n",
        "\n",
        "pickle_in = open(\"/content/drive/My Drive/X.pickle\",\"rb\")\n",
        "X = pickle.load(pickle_in)\n",
        "\n",
        "pickle_in = open(\"/content/drive/My Drive/y.pickle\",\"rb\")\n",
        "y = pickle.load(pickle_in)\n",
        "\n",
        "X = X/255.0\n",
        "\n",
        "dense_layers = [0]\n",
        "layer_sizes = [64]\n",
        "conv_layers = [3]\n",
        "\n",
        "for dense_layer in dense_layers:\n",
        "    for layer_size in layer_sizes:\n",
        "        for conv_layer in conv_layers:\n",
        "            NAME = \"{}-conv-{}-nodes-{}-dense-{}\".format(conv_layer, layer_size, dense_layer, int(time.time()))\n",
        "            print(NAME)\n",
        "\n",
        "            model = Sequential()\n",
        "\n",
        "            model.add(Conv2D(layer_size, (3, 3), input_shape=X.shape[1:]))\n",
        "            model.add(Activation('relu'))\n",
        "            model.add(MaxPooling2D(pool_size=(2, 2)))\n",
        "\n",
        "            for l in range(conv_layer-1):\n",
        "                model.add(Conv2D(layer_size, (3, 3)))\n",
        "                model.add(Activation('relu'))\n",
        "                model.add(MaxPooling2D(pool_size=(2, 2)))\n",
        "\n",
        "            model.add(Flatten())\n",
        "\n",
        "            for _ in range(dense_layer):\n",
        "                model.add(Dense(layer_size))\n",
        "                model.add(Activation('relu'))\n",
        "\n",
        "            model.add(Dense(1))\n",
        "            model.add(Activation('sigmoid'))\n",
        "\n",
        "            tensorboard = TensorBoard(log_dir=\"/content/drive/My Drive/deeplearning101/logs/{}\".format(NAME))\n",
        "\n",
        "            model.compile(loss='binary_crossentropy',\n",
        "                          optimizer='adam',\n",
        "                          metrics=['accuracy'],\n",
        "                          )\n",
        "\n",
        "            model.fit(X, y,\n",
        "                      batch_size=32,\n",
        "                      epochs=10,\n",
        "                      validation_split=0.3,\n",
        "                      callbacks=[tensorboard])\n",
        "\n",
        "model.save('/content/drive/My Drive/deeplearning101/64x3-CNN.model')\n",
        "\n",
        "\n",
        "CATEGORIES = [\"Dog\", \"Cat\"]  # will use this to convert prediction num to string value\n",
        "\n",
        "\n",
        "def prepare(filepath):\n",
        "    IMG_SIZE = 50\n",
        "    img_array = cv2.imread(filepath, cv2.IMREAD_GRAYSCALE)  # read in the image, convert to grayscale\n",
        "    new_array = cv2.resize(img_array, (IMG_SIZE, IMG_SIZE))  # resize image to match model's expected sizing\n",
        "    return new_array.reshape(-1, IMG_SIZE, IMG_SIZE, 1)\n",
        "  \n",
        "  \n",
        "prediction = model.predict([prepare('/content/drive/My Drive/PetImages/Dog/doggo.jpg')])\n",
        "print(prediction)  # will be a list in a list.\n",
        "print(CATEGORIES[int(prediction[0][0])])"
      ],
      "execution_count": 0,
      "outputs": [
        {
          "output_type": "stream",
          "text": [
            "Drive already mounted at /content/drive; to attempt to forcibly remount, call drive.mount(\"/content/drive\", force_remount=True).\n",
            "3-conv-64-nodes-0-dense-1550843689\n",
            "Train on 17469 samples, validate on 7487 samples\n",
            "Epoch 1/10\n",
            "17469/17469 [==============================] - 129s 7ms/sample - loss: 0.6609 - acc: 0.5922 - val_loss: 0.6135 - val_acc: 0.6541\n",
            "Epoch 2/10\n",
            "17469/17469 [==============================] - 115s 7ms/sample - loss: 0.5646 - acc: 0.7089 - val_loss: 0.5366 - val_acc: 0.7402\n",
            "Epoch 3/10\n",
            "17469/17469 [==============================] - 116s 7ms/sample - loss: 0.5034 - acc: 0.7553 - val_loss: 0.5207 - val_acc: 0.7410\n",
            "Epoch 4/10\n",
            "17469/17469 [==============================] - 115s 7ms/sample - loss: 0.4588 - acc: 0.7809 - val_loss: 0.4596 - val_acc: 0.7830\n",
            "Epoch 5/10\n",
            "17469/17469 [==============================] - 115s 7ms/sample - loss: 0.4285 - acc: 0.8000 - val_loss: 0.4467 - val_acc: 0.7903\n",
            "Epoch 6/10\n",
            "17469/17469 [==============================] - 115s 7ms/sample - loss: 0.3992 - acc: 0.8160 - val_loss: 0.4412 - val_acc: 0.7987\n",
            "Epoch 7/10\n",
            "13504/17469 [======================>.......] - ETA: 23s - loss: 0.3744 - acc: 0.8301"
          ],
          "name": "stdout"
        }
      ]
    }
  ]
}