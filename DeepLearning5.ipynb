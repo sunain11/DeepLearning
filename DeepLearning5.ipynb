{
  "nbformat": 4,
  "nbformat_minor": 0,
  "metadata": {
    "colab": {
      "name": "DeepLearning5.ipynb",
      "version": "0.3.2",
      "provenance": [],
      "include_colab_link": true
    },
    "kernelspec": {
      "name": "python3",
      "display_name": "Python 3"
    }
  },
  "cells": [
    {
      "cell_type": "markdown",
      "metadata": {
        "id": "view-in-github",
        "colab_type": "text"
      },
      "source": [
        "<a href=\"https://colab.research.google.com/github/sunain11/DeepLearning/blob/master/DeepLearning5.ipynb\" target=\"_parent\"><img src=\"https://colab.research.google.com/assets/colab-badge.svg\" alt=\"Open In Colab\"/></a>"
      ]
    },
    {
      "metadata": {
        "id": "ecHVY_Oz5YoF",
        "colab_type": "code",
        "colab": {}
      },
      "cell_type": "code",
      "source": [
        "from tensorflow.keras.models import Sequential\n",
        "from tensorflow.keras.layers import Dense, Dropout, Activation, Flatten\n",
        "from tensorflow.keras.layers import Conv2D, MaxPooling2D\n",
        "# more info on callbakcs: https://keras.io/callbacks/ model saver is cool too.\n",
        "from tensorflow.keras.callbacks import TensorBoard\n",
        "import pickle\n",
        "import time\n",
        "from google.colab import drive\n",
        "drive.mount('/content/drive')\n",
        "\n",
        "pickle_in = open(\"/content/drive/My Drive/X.pickle\",\"rb\")\n",
        "X = pickle.load(pickle_in)\n",
        "\n",
        "pickle_in = open(\"/content/drive/My Drive/y.pickle\",\"rb\")\n",
        "y = pickle.load(pickle_in)\n",
        "\n",
        "X = X/255.0\n",
        "\n",
        "dense_layers = [0, 1, 2]\n",
        "layer_sizes = [32, 64, 128]\n",
        "conv_layers = [1, 2, 3]\n",
        "\n",
        "for dense_layer in dense_layers:\n",
        "    for layer_size in layer_sizes:\n",
        "        for conv_layer in conv_layers:\n",
        "            NAME = \"{}-conv-{}-nodes-{}-dense-{}\".format(conv_layer, layer_size, dense_layer, int(time.time()))\n",
        "            print(NAME)\n",
        "\n",
        "            model = Sequential()\n",
        "\n",
        "            model.add(Conv2D(layer_size, (3, 3), input_shape=X.shape[1:]))\n",
        "            model.add(Activation('relu'))\n",
        "            model.add(MaxPooling2D(pool_size=(2, 2)))\n",
        "\n",
        "            for l in range(conv_layer-1):\n",
        "                model.add(Conv2D(layer_size, (3, 3)))\n",
        "                model.add(Activation('relu'))\n",
        "                model.add(MaxPooling2D(pool_size=(2, 2)))\n",
        "\n",
        "            model.add(Flatten())\n",
        "\n",
        "            for _ in range(dense_layer):\n",
        "                model.add(Dense(layer_size))\n",
        "                model.add(Activation('relu'))\n",
        "\n",
        "            model.add(Dense(1))\n",
        "            model.add(Activation('sigmoid'))\n",
        "\n",
        "            tensorboard = TensorBoard(log_dir=\"/content/drive/My Drive/logs/{}\".format(NAME))\n",
        "\n",
        "            model.compile(loss='binary_crossentropy',\n",
        "                          optimizer='adam',\n",
        "                          metrics=['accuracy'],\n",
        "                          )\n",
        "\n",
        "            model.fit(X, y,\n",
        "                      batch_size=32,\n",
        "                      epochs=10,\n",
        "                      validation_split=0.3,\n",
        "                      callbacks=[tensorboard])"
      ],
      "execution_count": 0,
      "outputs": []
    }
  ]
}